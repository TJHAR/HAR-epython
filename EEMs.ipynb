import matplotlib.pyplot as plt
from matplotlib import colors
import numpy as np

fig = plt.figure()
ax = fig.add_subplot(111,projection='3d')

x=np.arange(300,552,2)
y=np.arange(240,456,4)#建立Ex,Em数组 
Z=np.array([])
fp=open("./data.txt","r")
data=fp.readlines()
for i in data:
    xyz=i.split("\t")
    z=float(xyz[2].replace(",",""))
    Z=np.append(Z,z)#建立intensive数组 

X,Y=np.meshgrid(x, y)#建立网格
Z=np.array(Z).reshape((54, 126))#一维升二维

ax.set_zlim(0, 320000)
lim=np.arange(0,320000,2000)#排除散射峰
plt.contourf(X, Y, Z,lim,cmap="jet")#绘图

ax.set_xlabel('Em Wavelength (nm)')
ax.set_ylabel('Ex Wavelength (nm)')
ax.set_zticklabels([])
plt.colorbar()

plt.show()
